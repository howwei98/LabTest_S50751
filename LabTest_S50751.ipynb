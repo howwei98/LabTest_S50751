{
 "cells": [
  {
   "cell_type": "code",
   "execution_count": 14,
   "metadata": {},
   "outputs": [
    {
     "name": "stdout",
     "output_type": "stream",
     "text": [
      "Enter a number: 24\n",
      "2  bits with value \"1\".\n"
     ]
    }
   ],
   "source": [
    "n = int(input('Enter a number: '))\n",
    "def count(n):\n",
    "    if(n == 0):\n",
    "        return 0\n",
    "    else:\n",
    "        return (n&1) + count(n>>1)\n",
    "\n",
    "print(count(n),' bits with value \"1\".')"
   ]
  },
  {
   "cell_type": "code",
   "execution_count": 43,
   "metadata": {},
   "outputs": [
    {
     "name": "stdout",
     "output_type": "stream",
     "text": [
      "The most frequent character is \"   \" which appeared 5 times\n"
     ]
    }
   ],
   "source": [
    "class MyString:\n",
    "\n",
    "    def __init__(word, myString):\n",
    "        word.__myString = myString\n",
    "\n",
    "    def count(word):\n",
    "        counting = len(word.__myString.split())\n",
    "        return counting\n",
    "\n",
    "    def findMostFrequentChar(word):\n",
    "        counter = {}\n",
    "        new_string = list(filter(lambda x: 'a' >= x <= 'z', word.__myString.lower()))\n",
    "        for char in new_string:\n",
    "\n",
    "            if char in counter:\n",
    "                counter[char] += 1\n",
    "            else:\n",
    "                counter[char] = 1\n",
    "\n",
    "        key, value = max(counter.items(), key=lambda x:x[1])\n",
    "        return value, key\n",
    "\n",
    "\n",
    "def main():\n",
    "    aString = MyString(\"an apple is not a tomato\")\n",
    "\n",
    "    count, letter = aString.findMostFrequentChar()\n",
    "    print(\"The most frequent character is\",'\"', letter,'\"', \"which appeared\", count, \"times\")\n",
    "\n",
    "main()\n"
   ]
  },
  {
   "cell_type": "code",
   "execution_count": 21,
   "metadata": {},
   "outputs": [
    {
     "name": "stdout",
     "output_type": "stream",
     "text": [
      "Enter a text: dhdh dfdf\n",
      "Words exist:  2\n"
     ]
    }
   ],
   "source": [
    "text = input('Enter a text: ')\n",
    "def count(text):\n",
    "    return len(text.split(' '))\n",
    "\n",
    "print('Words exist: ',count(text))"
   ]
  },
  {
   "cell_type": "code",
   "execution_count": 51,
   "metadata": {},
   "outputs": [
    {
     "name": "stdout",
     "output_type": "stream",
     "text": [
      "Arguments are: (20,)\n",
      "Arguments are: (7,)\n"
     ]
    }
   ],
   "source": [
    "def multiply_by_two(x):\n",
    "    return x * 2\n",
    "\n",
    "def add_numbers(a, b):\n",
    "    return a + b\n",
    "\n",
    "def print_arguments(*args):\n",
    "    print(f'Arguments are: {args}')\n",
    "\n",
    "augmented_multiply_by_two = print_arguments(multiply_by_two(10))\n",
    "\n",
    "x = augmented_multiply_by_two\n",
    "# this will print: Arguments are: (10,), {} and will return 20.\n",
    "\n",
    "augmented_add_numbers = print_arguments(add_numbers(3, 4))\n",
    "\n",
    "x = augmented_add_numbers \n",
    "# this will print: Arguments are: (3, 4), {} and will return 7."
   ]
  },
  {
   "cell_type": "code",
   "execution_count": 55,
   "metadata": {},
   "outputs": [
    {
     "name": "stdout",
     "output_type": "stream",
     "text": [
      "Arguments are:60\n"
     ]
    }
   ],
   "source": [
    "def multiply_by_three(x):\n",
    "    return x*3\n",
    "\n",
    "def multiply_output(ambt):\n",
    "    return 2*ambt\n",
    "\n",
    "def print_arguments(args):\n",
    "    print (f'Arguments are:{args}')\n",
    "    \n",
    "augmented_multiply_by_three = (multiply_by_three(10))\n",
    "x=augmented_multiply_by_three\n",
    "augmented_output=print_arguments(multiply_output(x))\n",
    "ambt=augmented_output"
   ]
  },
  {
   "cell_type": "code",
   "execution_count": 56,
   "metadata": {},
   "outputs": [
    {
     "ename": "IndentationError",
     "evalue": "expected an indented block (<ipython-input-56-10eb88b4dc9a>, line 7)",
     "output_type": "error",
     "traceback": [
      "\u001b[1;36m  File \u001b[1;32m\"<ipython-input-56-10eb88b4dc9a>\"\u001b[1;36m, line \u001b[1;32m7\u001b[0m\n\u001b[1;33m    decorated_function = augment_function(add_numbers, [print_arguments,multiply_output])\u001b[0m\n\u001b[1;37m    ^\u001b[0m\n\u001b[1;31mIndentationError\u001b[0m\u001b[1;31m:\u001b[0m expected an indented block\n"
     ]
    }
   ],
   "source": [
    "def add_number(a, b):\n",
    "    return a + b\n",
    "\n",
    "def augment_function(arg):\n",
    "    \n",
    "\n",
    "decorated_function = augment_function(add_numbers, [print_arguments,multiply_output])\n",
    "\n",
    "x = decorated_function(3, 4) \n",
    "# this will print: Arguments are: (3, 4), {} and will return (2 * (3 + 4))\n"
   ]
  },
  {
   "cell_type": "code",
   "execution_count": null,
   "metadata": {},
   "outputs": [],
   "source": []
  }
 ],
 "metadata": {
  "kernelspec": {
   "display_name": "Python 3",
   "language": "python",
   "name": "python3"
  },
  "language_info": {
   "codemirror_mode": {
    "name": "ipython",
    "version": 3
   },
   "file_extension": ".py",
   "mimetype": "text/x-python",
   "name": "python",
   "nbconvert_exporter": "python",
   "pygments_lexer": "ipython3",
   "version": "3.8.5"
  }
 },
 "nbformat": 4,
 "nbformat_minor": 4
}
